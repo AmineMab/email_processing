{
 "cells": [
  {
   "cell_type": "code",
   "execution_count": null,
   "metadata": {},
   "outputs": [],
   "source": []
  }
 ],
 "metadata": {
  "kernelspec": {
   "display_name": "mlenv",
   "language": "python",
   "name": "python3"
  },
  "language_info": {
   "name": "python",
   "version": "3.10.9"
  },
  "orig_nbformat": 4,
  "vscode": {
   "interpreter": {
    "hash": "54c99467f18e89c232a94560670da991fdf4b7fc718b2fe0d448812f9d63fae2"
   }
  }
 },
 "nbformat": 4,
 "nbformat_minor": 2
}
