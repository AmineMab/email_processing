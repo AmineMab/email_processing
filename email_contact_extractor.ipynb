{
 "cells": [
  {
   "cell_type": "code",
   "execution_count": 4,
   "metadata": {},
   "outputs": [],
   "source": [
    "from _top_level_domains import TOP_LEVEL_DOMAINS\n",
    "from typing import Iterable\n",
    "from typing import Set\n",
    "import re"
   ]
  },
  {
   "cell_type": "code",
   "execution_count": null,
   "metadata": {},
   "outputs": [],
   "source": [
    "\n",
    "def email_filter(emails: Iterable[str]) -> Set[str]:\n",
    "    \"\"\"Remove duplicated emails and strings looks like emails (2@pic.png)\n",
    "    Examples:\n",
    "        >>> from extract_emails.utils import email_filter\n",
    "        >>> test_emails = [\"email@email.com\", \"email@email.com\", \"2@pic.png\"]\n",
    "        >>> filtered_emails = email_filter(test_emails)\n",
    "        >>> filtered_emails\n",
    "        {\"email@email.com\"}\n",
    "    Args:\n",
    "        emails: List of new emails\n",
    "    Returns:\n",
    "        List of filtered emails\n",
    "    \"\"\"\n",
    "    return set(\n",
    "        email for email in emails if \".\" + email.split(\".\")[-1] in TOP_LEVEL_DOMAINS\n",
    "    )"
   ]
  },
  {
   "cell_type": "code",
   "execution_count": null,
   "metadata": {},
   "outputs": [],
   "source": [
    "\n",
    "email_regexp = re.compile( \n",
    "    r\"\"\"(?:[a-z0-9!#$%&'*+/=?^_`{|}~-]+(?:\\.[a-z0-9!#$%&'*+/=?^_`{|}~-]+)*|\"(?:[\\x01-\\x08\\x0b\\x0c\\x0e-\\x1f\\x21\\x23-\\x5b\\x5d-\\x7f]|\\\\[\\x01-\\x09\\x0b\\x0c\\x0e-\\x7f])*\")@(?:(?:[a-z0-9](?:[a-z0-9-]*[a-z0-9])?\\.)+[a-z0-9](?:[a-z0-9-]*[a-z0-9])?|\\[(?:(?:25[0-5]|2[0-4][0-9]|[01]?[0-9][0-9]?)\\.){3}(?:25[0-5]|2[0-4][0-9]|[01]?[0-9][0-9]?|[a-z0-9-]*[a-z0-9]:(?:[\\x01-\\x08\\x0b\\x0c\\x0e-\\x1f\\x21-\\x5a\\x53-\\x7f]|\\\\[\\x01-\\x09\\x0b\\x0c\\x0e-\\x7f])+)\\])\"\"\"\n",
    "        )\n",
    "\n",
    "def get_data(email_source: str) -> Set[str]:\n",
    "    raw_emails = [i for i in email_regexp.findall(email_source)]\n",
    "    return email_filter(raw_emails)"
   ]
  }
 ],
 "metadata": {
  "kernelspec": {
   "display_name": "mlenv",
   "language": "python",
   "name": "python3"
  },
  "language_info": {
   "codemirror_mode": {
    "name": "ipython",
    "version": 3
   },
   "file_extension": ".py",
   "mimetype": "text/x-python",
   "name": "python",
   "nbconvert_exporter": "python",
   "pygments_lexer": "ipython3",
   "version": "3.10.9"
  },
  "orig_nbformat": 4,
  "vscode": {
   "interpreter": {
    "hash": "54c99467f18e89c232a94560670da991fdf4b7fc718b2fe0d448812f9d63fae2"
   }
  }
 },
 "nbformat": 4,
 "nbformat_minor": 2
}
